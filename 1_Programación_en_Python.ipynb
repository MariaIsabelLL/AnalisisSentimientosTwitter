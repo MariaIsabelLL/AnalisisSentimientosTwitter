{
  "nbformat": 4,
  "nbformat_minor": 0,
  "metadata": {
    "colab": {
      "name": "1.Programación en Python.ipynb",
      "provenance": [],
      "authorship_tag": "ABX9TyOPwly3y00A4SoKK5zGsO3v",
      "include_colab_link": true
    },
    "kernelspec": {
      "name": "python3",
      "display_name": "Python 3"
    },
    "language_info": {
      "name": "python"
    }
  },
  "cells": [
    {
      "cell_type": "markdown",
      "metadata": {
        "id": "view-in-github",
        "colab_type": "text"
      },
      "source": [
        "<a href=\"https://colab.research.google.com/github/MariaIsabelLL/AnalisisSentimientosTwitter/blob/main/1_Programaci%C3%B3n_en_Python.ipynb\" target=\"_parent\"><img src=\"https://colab.research.google.com/assets/colab-badge.svg\" alt=\"Open In Colab\"/></a>"
      ]
    },
    {
      "cell_type": "code",
      "metadata": {
        "colab": {
          "base_uri": "https://localhost:8080/"
        },
        "id": "jJc4nQlYX84x",
        "outputId": "d6a0d2c0-60d4-4a04-fa5a-716309dc7442"
      },
      "source": [
        "nombre = 'Maria'\n",
        "valor = 1\n",
        "valor2 = 3\n",
        "valor3 = 10\n",
        "valor4 = valor+valor2+valor3\n",
        "print(valor4)\n",
        "print(valor4/valor2)"
      ],
      "execution_count": null,
      "outputs": [
        {
          "output_type": "stream",
          "text": [
            "14\n",
            "4.666666666666667\n"
          ],
          "name": "stdout"
        }
      ]
    },
    {
      "cell_type": "code",
      "metadata": {
        "colab": {
          "base_uri": "https://localhost:8080/"
        },
        "id": "zN_PDeSwYlmw",
        "outputId": "dea7f270-3c92-46c2-e2ec-99083b2571ac"
      },
      "source": [
        "a = 23\n",
        "b = 12\n",
        "c = a + b\n",
        "print(c)"
      ],
      "execution_count": null,
      "outputs": [
        {
          "output_type": "stream",
          "text": [
            "35\n"
          ],
          "name": "stdout"
        }
      ]
    },
    {
      "cell_type": "code",
      "metadata": {
        "colab": {
          "base_uri": "https://localhost:8080/"
        },
        "id": "78JTO_DsYz7R",
        "outputId": "60f595b2-233a-4190-ce87-e6fad8fcb5c1"
      },
      "source": [
        "nombre = 'Maria'\n",
        "if nombre=='Maria':\n",
        "  print(\"Bienvenida Maria\")\n",
        "else:\n",
        "  print(\"Bienvenidos a todos\")"
      ],
      "execution_count": null,
      "outputs": [
        {
          "output_type": "stream",
          "text": [
            "Bienvenidos a todos\n"
          ],
          "name": "stdout"
        }
      ]
    },
    {
      "cell_type": "code",
      "metadata": {
        "colab": {
          "base_uri": "https://localhost:8080/"
        },
        "id": "w41K5qjCZl6J",
        "outputId": "d790afd3-f9fe-41ed-90c1-43c5695f67a8"
      },
      "source": [
        "for i in range(3):\n",
        "  print(f\"Bienvenida {i} \")"
      ],
      "execution_count": null,
      "outputs": [
        {
          "output_type": "stream",
          "text": [
            "Bienvenida 0 \n",
            "Bienvenida 1 \n",
            "Bienvenida 2 \n"
          ],
          "name": "stdout"
        }
      ]
    },
    {
      "cell_type": "code",
      "metadata": {
        "colab": {
          "base_uri": "https://localhost:8080/"
        },
        "id": "7i_87Vp9auOV",
        "outputId": "53034e6b-2c5c-417e-d2c0-80d04471e2f3"
      },
      "source": [
        "def suma(a,b):\n",
        "  resultado = a+b\n",
        "  return resultado\n",
        "\n",
        "print(suma(5,30))\n",
        "print(suma(2000,94758203948))"
      ],
      "execution_count": null,
      "outputs": [
        {
          "output_type": "stream",
          "text": [
            "35\n",
            "94758205948\n"
          ],
          "name": "stdout"
        }
      ]
    },
    {
      "cell_type": "code",
      "metadata": {
        "colab": {
          "base_uri": "https://localhost:8080/"
        },
        "id": "vtp1jWy8coAf",
        "outputId": "a32b82a0-49ae-4ba9-b86b-b7d9fadf7585"
      },
      "source": [
        "import math\n",
        "\n",
        "print(math.fsum([4,5]))\n",
        "print(math.sqrt(9))"
      ],
      "execution_count": null,
      "outputs": [
        {
          "output_type": "stream",
          "text": [
            "9.0\n",
            "3.0\n"
          ],
          "name": "stdout"
        }
      ]
    }
  ]
}